{
 "cells": [
  {
   "cell_type": "markdown",
   "metadata": {},
   "source": [
    "# Generate Map tiles from NYC taxi trip data\n",
    "\n",
    "- 建立要繪製的 map tile 列表\n",
    "  - 使用 Mercantile 套件，對設定的範圍自動產生所有的 Tile 列表。\n",
    "- 統計 map tile 範圍內每個點的資料數量\n",
    "  - 使用 datashader.Canvas.point 函數，對 map tile 範圍內進行統計。\n",
    "  - 將統計結果使用 pickle 與 gzip 序列化成壓縮檔儲存（*.pkl.gz）。\n",
    "  - 將每個點中的最大值儲存在 *.pkl.yaml 檔中方檢視。\n",
    "  - 不儲存無資料（全為零）的統計結果以節省空間。\n",
    "- 尋找 zoom 中的最大值\n",
    "  - 統計 zoom 中的所有 tile 的最大值，並儲存在 _config.yaml 中。\n",
    "- 依照統計資料，繪製每個 tile 圖片。\n",
    "  - 讀取 *.pkl.gz 並還原為統計物件來進行繪圖。\n",
    "  - 繪圖時使用 log 方法來進行內差計算，避免資料過於集中導致較少的點位看不出資料的問題。\n",
    "  - 繪圖時將範圍設為 span=[0, zoom_agg__max]，避免不同 tile 做 interpolate 後得出的顏色範圍不統一的問題。\n",
    "  - 儲存圖片到指定路徑。\n",
    "- 使用 Folium 套件來呈現結果。\n"
   ]
  },
  {
   "cell_type": "markdown",
   "metadata": {},
   "source": [
    "## 下載 NYC taxi trip data"
   ]
  },
  {
   "cell_type": "code",
   "execution_count": null,
   "metadata": {
    "scrolled": true
   },
   "outputs": [],
   "source": [
    "import os\n",
    "os.system(\"wget https://s3.amazonaws.com/nyc-tlc/trip+data/yellow_tripdata_2016-05.csv\")"
   ]
  },
  {
   "cell_type": "markdown",
   "metadata": {},
   "source": [
    "## 讀取 dataset"
   ]
  },
  {
   "cell_type": "code",
   "execution_count": null,
   "metadata": {},
   "outputs": [],
   "source": [
    "import pandas as pd\n",
    "import numpy as np\n",
    "\n",
    "# 讀取 pickup_longitude 與 pickup_latitude 兩欄位\n",
    "df = pd.read_csv(\"yellow_tripdata_2016-05.csv\",\n",
    "                 usecols=['pickup_longitude', \"pickup_latitude\"],\n",
    "                 dtype={'pickup_longitude':np.float32,\n",
    "                        \"pickup_latitude\":np.float32})"
   ]
  },
  {
   "cell_type": "markdown",
   "metadata": {},
   "source": [
    "## 轉換 GPS 座標至 Web Mercator coordinate\n",
    "\n",
    "因原始資料的座標使用的 GPS 資訊為球面座標，因此須先轉換為 Web mercator coordinate 才能使用在 map tiles 的座標系統中。我們使用 [pyproj](https://pypi.org/project/pyproj/) 來轉換座標"
   ]
  },
  {
   "cell_type": "code",
   "execution_count": null,
   "metadata": {},
   "outputs": [],
   "source": [
    "# 定義轉換函數\n",
    "from pyproj import transform, Proj\n",
    "\n",
    "# Set project function\n",
    "source = Proj(init=\"epsg:4326\") # WGS84\n",
    "target = Proj(init=\"epsg:3857\") # Web mercator \n",
    "\n",
    "# 轉換 Longitude 到 Web Mercator - X coordinate\n",
    "def lngToX(lng):\n",
    "    return np.float32(transform(source, target, lng, 0)[0])\n",
    "\n",
    "# 轉換 Latitude 到 Web Mercator - Y coordinate\n",
    "def latToY(lat):\n",
    "    return np.float32(transform(source, target, 0, lat)[1])\n",
    "\n",
    "df['pickup_x'] = df.pickup_longitude.apply(lngToX)\n",
    "df['pickup_y'] = df.pickup_latitude.apply(latToY)\n"
   ]
  },
  {
   "cell_type": "markdown",
   "metadata": {},
   "source": [
    "## 使用 Dask 平行處理 Dataframe"
   ]
  },
  {
   "cell_type": "code",
   "execution_count": null,
   "metadata": {},
   "outputs": [],
   "source": [
    "import dask.dataframe as dd\n",
    "import multiprocessing as mp\n",
    "\n",
    "dask_df = dd.from_pandas(df, npartitions=mp.cpu_count())\n",
    "dask_df.persist()"
   ]
  },
  {
   "cell_type": "markdown",
   "metadata": {},
   "source": [
    "## 建立所要產生的 Map Tile 列表"
   ]
  },
  {
   "cell_type": "code",
   "execution_count": null,
   "metadata": {},
   "outputs": [],
   "source": [
    "import mercantile\n",
    "\n",
    "# New York City 周邊範圍\n",
    "bound_nyc = (-74.029495, 40.697930, -73.946411, 40.817817) \n",
    "\n",
    "# 產生 zoom 範圍為 [0, 15] 的所有 tiles\n",
    "tile_list = list(mercantile.tiles(*bound_nyc, zooms=list(range(0, 16))))\n"
   ]
  },
  {
   "cell_type": "markdown",
   "metadata": {},
   "source": [
    "## 建立 Aggregation 資料並寫入檔案中"
   ]
  },
  {
   "cell_type": "code",
   "execution_count": null,
   "metadata": {},
   "outputs": [],
   "source": [
    "import datashader as ds\n",
    "import os, pickle, gzip, yaml\n",
    "\n",
    "from tqdm import tqdm\n",
    "\n",
    "# 依照 Tile 位置建立 datashader.Canvas\n",
    "def mapTilesCanvas(xtile, ytile, zoom, tile_size=(256, 256)):\n",
    "    bounds = mercantile.xy_bounds(xtile, ytile, zoom)\n",
    "    canvas = ds.Canvas(plot_width = tile_size[0],\n",
    "                       plot_height = tile_size[1],\n",
    "                       x_range = (bounds.left, bounds.right),\n",
    "                       y_range = (bounds.bottom, bounds.top))\n",
    "    return canvas\n",
    "\n",
    "agg_root = './map/agg'\n",
    "\n",
    "for tile in tqdm(tile_list):\n",
    "    \n",
    "    cvs = mapTilesCanvas(*tile)\n",
    "    agg = cvs.points(dask_df, 'pickup_x', 'pickup_y')\n",
    "    \n",
    "    # 若 aggregation 為空則不產生檔案\n",
    "    if (agg.values.max() < 1):\n",
    "        continue\n",
    "    \n",
    "    # 依照與 map tile 相同的路徑儲存 aggregation 檔案\n",
    "    # path = {root}/${zoom}/${x}/${y}\n",
    "    agg_folder = os.path.join(agg_root, str(tile.z), str(tile.x))\n",
    "    \n",
    "    # 使用 Pickle 序列化 Aggregation 並儲存成  gzip \n",
    "    agg_file = os.path.join(agg_folder, str(tile.y) + \".pkl.gz\")\n",
    "    os.makedirs(os.path.dirname(agg_file), exist_ok=True)\n",
    "    with gzip.open(agg_file, mode='wb') as file:\n",
    "        pickle.dump(agg, file)\n",
    "    \n",
    "    # 建立 Aggregation 檔案的 Yaml 檔\n",
    "    agg_yaml_file = os.path.join(agg_folder, str(tile.y) + \".pkl.yaml\")\n",
    "    os.makedirs(os.path.dirname(agg_yaml_file), exist_ok=True)\n",
    "    with open(agg_yaml_file, mode='w') as file:\n",
    "        yaml_obj = {\"agg_file\": os.path.basename(agg_file),\n",
    "                    \"max_count\": int(agg.values.max()),\n",
    "                    \"tile\": {\"z\": tile.z, \"x\": tile.x, \"y\":tile.y }\n",
    "                   }\n",
    "        yaml.dump(yaml_obj, file, default_flow_style=False)\n",
    "    "
   ]
  },
  {
   "cell_type": "markdown",
   "metadata": {},
   "source": [
    "## 建立每個 zoom 中的點位最大值資料"
   ]
  },
  {
   "cell_type": "code",
   "execution_count": null,
   "metadata": {},
   "outputs": [],
   "source": [
    "# 取得儲存 Yaml 檔案中，最大點數的資訊\n",
    "def getYamlMaxCount(yaml_file):\n",
    "    with open(yaml_file, 'r') as file:\n",
    "        try:\n",
    "            return yaml.load(file)['max_count']\n",
    "        except BaseException:\n",
    "            return 0\n",
    "    return 0\n",
    "\n",
    "# 計算 zoom 中的最大點數資料\n",
    "def getZoomMaxCount(base_root):\n",
    "    max_count = 0;\n",
    "    for root, dirs, files in os.walk(base_root):\n",
    "        for file in files:\n",
    "            exts = file.split(os.extsep)\n",
    "\n",
    "            if len(exts) < 3:\n",
    "                continue\n",
    "                \n",
    "            if exts[-2] != 'pkl':\n",
    "                continue\n",
    "\n",
    "            if not (exts[-1] == \"yaml\" or exts[-1] == \"yml\"):\n",
    "                continue\n",
    "                \n",
    "            mc = getYamlMaxCount(os.path.join(root, file))\n",
    "            if max_count < mc:\n",
    "                max_count = mc\n",
    "\n",
    "    return max_count\n",
    "\n",
    "\n",
    "zoom_list = os.listdir(agg_root)\n",
    "\n",
    "for zoom in zoom_list:\n",
    "    max_count = getZoomMaxCount(os.path.join(agg_root, zoom))\n",
    "    zoom_yaml = os.path.join(agg_root, zoom, '_config.yaml')\n",
    "    \n",
    "    with open(zoom_yaml, 'w') as file:\n",
    "        yaml_obj = {'zoom_max_count': max_count}\n",
    "        yaml.dump(yaml_obj, file, default_flow_style=False)"
   ]
  },
  {
   "cell_type": "markdown",
   "metadata": {},
   "source": [
    "## 產生每個 Aggregation 檔案對應的 Tile 影像"
   ]
  },
  {
   "cell_type": "code",
   "execution_count": null,
   "metadata": {},
   "outputs": [],
   "source": [
    "\n",
    "# 由 path 得出 aggregation file 對應的 map tile 路徑\n",
    "def getMapTileCoord(agg_path):\n",
    "    sep = agg_path.split(os.sep)\n",
    "    if len(sep) < 3:\n",
    "        raise ValueError(\"agg_path can not convert to tile path\")\n",
    "    \n",
    "    z = sep[-3]\n",
    "    x = sep[-2]\n",
    "    y = sep[-1].split('.')[0]\n",
    "        \n",
    "    return (z, x, y)\n",
    "\n",
    "# 從 _config.yaml 檔建立\n",
    "def getMaxCountDict(agg_root):\n",
    "    max_dict = {}\n",
    "    \n",
    "    for folder in os.listdir(agg_root):\n",
    "        zoom_conf_f = os.path.join(agg_root, folder, '_config.yaml')\n",
    "        with open(zoom_conf_f, 'r') as f:\n",
    "            try:\n",
    "                obj = yaml.load(f)\n",
    "                max_dict[folder] = int(obj['zoom_max_count'])\n",
    "            except:\n",
    "                print('Get max count in zoom ', folder, ': Error')\n",
    "            \n",
    "    return max_dict\n"
   ]
  },
  {
   "cell_type": "code",
   "execution_count": null,
   "metadata": {},
   "outputs": [],
   "source": [
    "import datashader.transfer_functions as tf\n",
    "from matplotlib.cm import hot\n",
    "\n",
    "tile_root = 'map/tile'\n",
    "\n",
    "max_dict = getMaxCountDict(agg_root)\n",
    "\n",
    "for root, dirs, files in os.walk(agg_root):\n",
    "    for file in files:\n",
    "        \n",
    "        sep = file.split(\".\")\n",
    "        if len(sep) < 3:\n",
    "            continue\n",
    "            \n",
    "        if sep[-1] != 'gz' or sep[-2] != 'pkl':\n",
    "            continue\n",
    "            \n",
    "        agg_path = os.path.join(root, file)\n",
    "        \n",
    "        with gzip.open(agg_path, 'rb') as f:\n",
    "            agg = pickle.load(f)\n",
    "            \n",
    "            zoom, xtile, ytile = getMapTileCoord(agg_path)\n",
    "            \n",
    "            if zoom in max_dict.keys():\n",
    "                img = tf.shade(agg, cmap=hot, how='log', span=[0, max_dict[zoom]])\n",
    "            else:\n",
    "                img = tf.shade(agg, cmap=hot, how='log')\n",
    "            \n",
    "            tile_path = os.path.join(tile_root, zoom, xtile, ytile + '.png')\n",
    "            os.makedirs(os.path.dirname(tile_path), exist_ok=True)\n",
    "            with open(tile_path, mode='wb') as out:\n",
    "                out.write(img.to_bytesio(format='png').read())\n"
   ]
  },
  {
   "cell_type": "markdown",
   "metadata": {},
   "source": [
    "## 使用 Folium 顯示圖層"
   ]
  },
  {
   "cell_type": "code",
   "execution_count": null,
   "metadata": {
    "scrolled": false
   },
   "outputs": [],
   "source": [
    "import folium\n",
    "\n",
    "# 使用 Carto Dark 建立底圖\n",
    "fmap = folium.Map(location=[40.772562, -73.974039],\n",
    "                  tiles='https://cartodb-basemaps-{s}.global.ssl.fastly.net/dark_all/{z}/{x}/{y}.png',\n",
    "                  zoom_start=12,\n",
    "                  attr='Carto Dark')\n",
    ", \n",
    "# 加入放在 GitHub 存放的 map tiles 位置\n",
    "fmap.add_tile_layer(tiles='https://raw.githubusercontent.com/yeshuanova/nyc_taxi_trip_map/master/map/tile/{z}/{x}/{y}.png',\n",
    "                    attr='NYC taxi pickup Heatmap')\n",
    "\n",
    "# 儲存地圖為 Html 檔，可直接用瀏覽器打開檢視地圖資訊\n",
    "fmap.save('map.html')\n",
    "\n",
    "# 直接在 ipython 中顯示地圖\n",
    "fmap\n"
   ]
  }
 ],
 "metadata": {
  "kernelspec": {
   "display_name": "Python 3",
   "language": "python",
   "name": "python3"
  },
  "language_info": {
   "codemirror_mode": {
    "name": "ipython",
    "version": 3
   },
   "file_extension": ".py",
   "mimetype": "text/x-python",
   "name": "python",
   "nbconvert_exporter": "python",
   "pygments_lexer": "ipython3",
   "version": "3.6.5"
  }
 },
 "nbformat": 4,
 "nbformat_minor": 2
}
